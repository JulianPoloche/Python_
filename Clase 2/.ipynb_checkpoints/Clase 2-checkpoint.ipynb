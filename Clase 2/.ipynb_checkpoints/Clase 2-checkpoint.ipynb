{
 "cells": [
  {
   "cell_type": "markdown",
   "metadata": {},
   "source": [
    "### Ejercicio 3"
   ]
  },
  {
   "cell_type": "code",
   "execution_count": 1,
   "metadata": {},
   "outputs": [
    {
     "name": "stdout",
     "output_type": "stream",
     "text": [
      "Gire en la  Carrera 10\n"
     ]
    }
   ],
   "source": [
    "giro = 'Carrera 10'\n",
    "\n",
    "if giro == 'Carrera 10':\n",
    "    print('Gire en la ',giro)\n",
    "if giro == 'Carrera 11':\n",
    "    print('Gire en la ',giro)\n",
    "if giro == 'Carrera 12':\n",
    "    print('Gire en la ',giro)\n",
    "if giro == 'Carrera 13':\n",
    "    print('Gire en la ',giro)\n",
    "if giro == 'Carrera 14':\n",
    "    print('Gire en la ',giro)\n",
    "if giro == 'Carrera 15':\n",
    "    print('Gire en la ',giro)\n",
    "if giro == 'Carrera 16':\n",
    "    print('Gire en la ',giro)\n",
    "if giro == 'Carrera 17':\n",
    "    print('Gire en la ',giro)"
   ]
  },
  {
   "cell_type": "code",
   "execution_count": 7,
   "metadata": {},
   "outputs": [],
   "source": [
    "## Ingreso por teclado\n",
    "def ejercicio3(giro):\n",
    "##giro = input('Ingrese  la direción')\n",
    "\n",
    "    if giro == 'Carrera 10':\n",
    "        print('Gire en la ',giro)\n",
    "    if giro == 'Carrera 11':\n",
    "        print('Gire en la ',giro)\n",
    "    if giro == 'Carrera 12':\n",
    "        print('Gire en la ',giro)\n",
    "    if giro == 'Carrera 13':\n",
    "        print('Gire en la ',giro)\n",
    "    if giro == 'Carrera 14':\n",
    "        print('Gire en la ',giro)\n",
    "    if giro == 'Carrera 15':\n",
    "        print('Gire en la ',giro)\n",
    "    if giro == 'Carrera 16':\n",
    "        print('Gire en la ',giro)\n",
    "    if giro == 'Carrera 17':\n",
    "        print('Gire en la ',giro)"
   ]
  },
  {
   "cell_type": "code",
   "execution_count": 9,
   "metadata": {},
   "outputs": [
    {
     "name": "stdout",
     "output_type": "stream",
     "text": [
      "Gire en la  Carrera 15\n"
     ]
    }
   ],
   "source": [
    "ejercicio3('Carrera 15')"
   ]
  },
  {
   "cell_type": "code",
   "execution_count": 34,
   "metadata": {},
   "outputs": [],
   "source": [
    "###prpuesta\n",
    "def calculadora(a :float,b :float , opc:str):\n",
    "        if opc == '+':\n",
    "            respuesta = a+b;\n",
    "            print('Resultado ',respuesta)\n",
    "        if opc == '-':\n",
    "            respuesta = a-b;\n",
    "            print('Resultado ',respuesta)\n",
    "        if opc == '*':\n",
    "            respuesta = a*b;\n",
    "            print('Resultado ',respuesta)\n",
    "        ## print('Resultado ',giro)\n",
    "        if opc == '/':\n",
    "            if (b != 0):\n",
    "                respuesta = a/b;\n",
    "                print('Resultado ',respuesta)\n",
    "            else:\n",
    "                print ('Error')\n",
    "       "
   ]
  },
  {
   "cell_type": "code",
   "execution_count": 36,
   "metadata": {},
   "outputs": [
    {
     "name": "stdout",
     "output_type": "stream",
     "text": [
      "Error\n"
     ]
    }
   ],
   "source": [
    "calculadora(6,0,'/')"
   ]
  },
  {
   "cell_type": "markdown",
   "metadata": {},
   "source": [
    "### Listas y Arreglos\n"
   ]
  },
  {
   "cell_type": "code",
   "execution_count": 41,
   "metadata": {},
   "outputs": [
    {
     "name": "stdout",
     "output_type": "stream",
     "text": [
      "[5, 8, 7, 9, 7, 5, 6]\n"
     ]
    }
   ],
   "source": [
    "lista =[]\n",
    "lista = [5,8,7,9,7,5,6]\n",
    "print(lista)"
   ]
  },
  {
   "cell_type": "code",
   "execution_count": 42,
   "metadata": {},
   "outputs": [
    {
     "name": "stdout",
     "output_type": "stream",
     "text": [
      "[9, 7, 5, 6]\n",
      "[5, 8, 7]\n",
      "[7, 9]\n"
     ]
    }
   ],
   "source": [
    "#[5,8,7,9,7,5,6]\n",
    "# 0 1 2 3 4 5 6\n",
    "print(lista[3:]) #hacia adelante del 3\n",
    "print(lista[:3])#hacia a atras de 3\n",
    "print(lista[2:4]) # Entre Posiciones traer valores"
   ]
  },
  {
   "cell_type": "code",
   "execution_count": 43,
   "metadata": {},
   "outputs": [],
   "source": [
    "texto = \"Esta es la clase de Python Basico\""
   ]
  },
  {
   "cell_type": "code",
   "execution_count": 44,
   "metadata": {},
   "outputs": [
    {
     "name": "stdout",
     "output_type": "stream",
     "text": [
      "c\n",
      "clase de Python Basico\n",
      "Esta es la \n",
      "clase \n"
     ]
    }
   ],
   "source": [
    "print(texto[11])\n",
    "print(texto[11:])\n",
    "print(texto[:11])\n",
    "print(texto[11:17])"
   ]
  },
  {
   "cell_type": "code",
   "execution_count": 45,
   "metadata": {},
   "outputs": [
    {
     "name": "stdout",
     "output_type": "stream",
     "text": [
      "['5', '55', '58']\n"
     ]
    }
   ],
   "source": [
    "lista_1 =[]\n",
    "lista_1.append(\"5\")\n",
    "lista_1.append(\"55\")\n",
    "lista_1.append(\"58\")\n",
    "print(lista_1)"
   ]
  },
  {
   "cell_type": "code",
   "execution_count": 47,
   "metadata": {},
   "outputs": [
    {
     "name": "stdout",
     "output_type": "stream",
     "text": [
      "********************\n",
      "[1, 2, 3, 4]\n",
      "[5, 6, 7, 8]\n",
      "********************\n",
      "[[1, 2, 3, 4], [5, 6, 7, 8]]\n"
     ]
    }
   ],
   "source": [
    "Matriz = []\n",
    "renglon1 = [1,2,3,4]\n",
    "renglon2 = [5,6,7,8]\n",
    "\n",
    "Matriz.append(renglon1)\n",
    "Matriz.append(renglon2)\n",
    "print('********************')\n",
    "print(renglon1)\n",
    "print(renglon2)\n",
    "print('********************')\n",
    "print(Matriz)"
   ]
  },
  {
   "cell_type": "markdown",
   "metadata": {},
   "source": [
    "### BUCLES\n"
   ]
  },
  {
   "cell_type": "code",
   "execution_count": 53,
   "metadata": {},
   "outputs": [
    {
     "name": "stdout",
     "output_type": "stream",
     "text": [
      "1\n",
      "3\n",
      "5\n",
      "7\n",
      "9\n"
     ]
    }
   ],
   "source": [
    "##range (inicio ,fin, contador por pasos)\n",
    "for i in range(1,11,2):\n",
    "    print(i)"
   ]
  },
  {
   "cell_type": "code",
   "execution_count": 54,
   "metadata": {},
   "outputs": [
    {
     "name": "stdout",
     "output_type": "stream",
     "text": [
      "1\n",
      "2\n",
      "3\n",
      "4\n",
      "1\n",
      "2\n",
      "3\n",
      "41\n",
      "2\n",
      "3\n",
      "4\n"
     ]
    }
   ],
   "source": [
    "lista = [1, 2, 3, 4,1, 2, 3, 41, 2, 3, 4]\n",
    "for i in lista :\n",
    "    print(i)"
   ]
  },
  {
   "cell_type": "code",
   "execution_count": 58,
   "metadata": {},
   "outputs": [
    {
     "name": "stdout",
     "output_type": "stream",
     "text": [
      "la posicion es :  0\n"
     ]
    }
   ],
   "source": [
    "texto= 'Esta es la clase x de python basico'\n"
   ]
  },
  {
   "cell_type": "code",
   "execution_count": 64,
   "metadata": {},
   "outputs": [
    {
     "name": "stdout",
     "output_type": "stream",
     "text": [
      "- E -> 0\n",
      "- s -> 1\n",
      "- t -> 2\n",
      "- a -> 3\n",
      "-   -> 4\n",
      "- e -> 5\n",
      "- s -> 6\n",
      "-   -> 7\n",
      "- l -> 8\n",
      "- a -> 9\n",
      "-   -> 10\n",
      "- c -> 11\n",
      "- l -> 12\n",
      "- a -> 13\n",
      "- s -> 14\n",
      "- e -> 15\n",
      "-   -> 16\n",
      "- x -> 17\n",
      "la posicion es :  17\n",
      "-   -> 18\n",
      "- d -> 19\n",
      "- e -> 20\n",
      "-   -> 21\n",
      "- p -> 22\n",
      "- y -> 23\n",
      "- t -> 24\n",
      "- h -> 25\n",
      "- o -> 26\n",
      "- n -> 27\n",
      "-   -> 28\n",
      "- b -> 29\n",
      "- a -> 30\n",
      "- s -> 31\n",
      "- i -> 32\n",
      "- c -> 33\n",
      "- o -> 34\n"
     ]
    }
   ],
   "source": [
    "contador = 0;\n",
    "for i in texto:\n",
    "    print(\"-\",i,\"->\",contador)\n",
    "    if i == 'x' :\n",
    "        print('la posicion es : ',contador)\n",
    "    contador +=1;"
   ]
  },
  {
   "cell_type": "code",
   "execution_count": 69,
   "metadata": {},
   "outputs": [],
   "source": [
    "def amortizacion(d,t,n):\n",
    "    print(\"Deuda\",d)\n",
    "    print(\"Tasa\",t)\n",
    "    print(\"Periodos\",n)\n"
   ]
  },
  {
   "cell_type": "code",
   "execution_count": 97,
   "metadata": {},
   "outputs": [],
   "source": [
    "def amortizacion(**kwargs):\n",
    "    \n",
    "    print(\"Deuda ----->\",kwargs[\"d\"])\n",
    "    print(\"Tasa ------>\",kwargs[\"t\"])\n",
    "    print(\"Periodos ------>\",kwargs[\"n\"])\n",
    "    \n",
    "    d= float(kwargs[\"d\"])\n",
    "    t= float(kwargs[\"t\"])\n",
    "    n= float(kwargs[\"n\"])\n",
    "    \n",
    "    r=(d*t)/(1-pow((1+t),-n)) # Cuota\n",
    "    print('Cuota --->',r)\n",
    "    \n",
    "    print('*****************************************************')\n",
    "    k = 0\n",
    "    amortizacion=[]\n",
    "    while k != n :\n",
    "        lista=[]\n",
    "        i = d * t # interes\n",
    "        a = r - i # amortización\n",
    "        d = d - a # amortización\n",
    "        k+=1\n",
    "        print('# interes -> ',i)\n",
    "        print('# amortización -> 'a)\n",
    "        print('# amortización ->',d)\n",
    "        print(k)\n",
    "        \n",
    "        \n",
    "        lista.append(i)\n",
    "        lista.append(a)\n",
    "        lista.append(d)\n",
    "        lista.append(k)\n",
    "        amortizacion.append(lista)\n",
    "        print(lista)"
   ]
  },
  {
   "cell_type": "code",
   "execution_count": 98,
   "metadata": {},
   "outputs": [
    {
     "name": "stdout",
     "output_type": "stream",
     "text": [
      "Deuda -----> 5000000\n",
      "Tasa ------> 0.11\n",
      "Periodos ------> 10\n",
      "Cuota ---> 849007.1354874512\n",
      "*****************************************************\n",
      "550000.0\n",
      "299007.1354874512\n",
      "4700992.864512549\n",
      "1\n",
      "[550000.0, 299007.1354874512, 4700992.864512549, 1]\n",
      "517109.2150963804\n",
      "331897.92039107083\n",
      "4369094.944121478\n",
      "2\n",
      "[517109.2150963804, 331897.92039107083, 4369094.944121478, 2]\n",
      "480600.4438533626\n",
      "368406.69163408864\n",
      "4000688.2524873894\n",
      "3\n",
      "[480600.4438533626, 368406.69163408864, 4000688.2524873894, 3]\n",
      "440075.7077736128\n",
      "408931.4277138384\n",
      "3591756.824773551\n",
      "4\n",
      "[440075.7077736128, 408931.4277138384, 3591756.824773551, 4]\n",
      "395093.2507250906\n",
      "453913.8847623606\n",
      "3137842.9400111903\n",
      "5\n",
      "[395093.2507250906, 453913.8847623606, 3137842.9400111903, 5]\n",
      "345162.72340123093\n",
      "503844.4120862203\n",
      "2633998.52792497\n",
      "6\n",
      "[345162.72340123093, 503844.4120862203, 2633998.52792497, 6]\n",
      "289739.8380717467\n",
      "559267.2974157045\n",
      "2074731.2305092653\n",
      "7\n",
      "[289739.8380717467, 559267.2974157045, 2074731.2305092653, 7]\n",
      "228220.43535601918\n",
      "620786.700131432\n",
      "1453944.5303778332\n",
      "8\n",
      "[228220.43535601918, 620786.700131432, 1453944.5303778332, 8]\n",
      "159933.89834156164\n",
      "689073.2371458896\n",
      "764871.2932319436\n",
      "9\n",
      "[159933.89834156164, 689073.2371458896, 764871.2932319436, 9]\n",
      "84135.8422555138\n",
      "764871.2932319375\n",
      "6.170012056827545e-09\n",
      "10\n",
      "[84135.8422555138, 764871.2932319375, 6.170012056827545e-09, 10]\n"
     ]
    }
   ],
   "source": [
    "##amortizacion(5000000,0.1,10)\n",
    "amortizacion(d=5000000,t=0.11,n=10)"
   ]
  },
  {
   "cell_type": "code",
   "execution_count": null,
   "metadata": {},
   "outputs": [],
   "source": []
  }
 ],
 "metadata": {
  "kernelspec": {
   "display_name": "Python 3",
   "language": "python",
   "name": "python3"
  },
  "language_info": {
   "codemirror_mode": {
    "name": "ipython",
    "version": 3
   },
   "file_extension": ".py",
   "mimetype": "text/x-python",
   "name": "python",
   "nbconvert_exporter": "python",
   "pygments_lexer": "ipython3",
   "version": "3.8.5"
  }
 },
 "nbformat": 4,
 "nbformat_minor": 4
}
