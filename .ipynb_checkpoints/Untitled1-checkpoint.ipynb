{
 "cells": [
  {
   "cell_type": "code",
   "execution_count": 1,
   "metadata": {},
   "outputs": [
    {
     "name": "stdout",
     "output_type": "stream",
     "text": [
      "Hola mundo\n"
     ]
    }
   ],
   "source": [
    "print('Hola mundo')"
   ]
  },
  {
   "cell_type": "code",
   "execution_count": null,
   "metadata": {},
   "outputs": [],
   "source": [
    "Ejercicio 1 \n",
    "\n",
    "edad = 18\n",
    "\n",
    "if edad >= 18:\n",
    "    print(\"Puede tomar cerveza\")\n",
    "else:\n",
    "    print (\"No puede Tomar cerveza\")"
   ]
  },
  {
   "cell_type": "code",
   "execution_count": 9,
   "metadata": {},
   "outputs": [
    {
     "name": "stdout",
     "output_type": "stream",
     "text": [
      "Ingrese la edad:18\n",
      "Puede tomar cerveza\n"
     ]
    }
   ],
   "source": [
    "#Ejercicio 1 \n",
    "\n",
    "edad = int(input(\"Ingrese la edad:\"))\n",
    "\n",
    "if edad >= 18:\n",
    "    print(\"Puede tomar cerveza\")\n",
    "else:\n",
    "    print (\"No puede Tomar cerveza\")"
   ]
  },
  {
   "cell_type": "markdown",
   "metadata": {},
   "source": [
    "\n"
   ]
  },
  {
   "cell_type": "code",
   "execution_count": 11,
   "metadata": {},
   "outputs": [],
   "source": [
    "## Funciones\n",
    "def ejercicio1(edad ) :\n",
    "    if edad >= 18:\n",
    "        print(\"Puede tomar cerveza\")\n",
    "    else:\n",
    "        print (\"No puede Tomar cerveza\")"
   ]
  },
  {
   "cell_type": "code",
   "execution_count": 12,
   "metadata": {},
   "outputs": [
    {
     "name": "stdout",
     "output_type": "stream",
     "text": [
      "No puede Tomar cerveza\n"
     ]
    }
   ],
   "source": [
    "ejercicio1(16)"
   ]
  },
  {
   "cell_type": "code",
   "execution_count": 15,
   "metadata": {},
   "outputs": [
    {
     "name": "stdout",
     "output_type": "stream",
     "text": [
      "Ingrese la edad:16\n",
      "No puede Tomar cerveza\n"
     ]
    }
   ],
   "source": [
    "ejercicio1(int(input(\"Ingrese la edad:\")))"
   ]
  },
  {
   "cell_type": "markdown",
   "metadata": {},
   "source": [
    "\n",
    "### Ejercicio 2\n"
   ]
  },
  {
   "cell_type": "code",
   "execution_count": 21,
   "metadata": {},
   "outputs": [
    {
     "name": "stdout",
     "output_type": "stream",
     "text": [
      "compro aguila\n"
     ]
    }
   ],
   "source": [
    "## Switch Case \n",
    "marca = 'aguila'\n",
    "\n",
    "if marca == 'budweiser':\n",
    "    print('compro',marca) # forma recomnedada\n",
    "    #print('compro'+ marca)\n",
    "elif marca == 'aguila':\n",
    "    print('compro',marca)\n",
    "elif marca == 'poker':\n",
    "    print('compro',marca)\n",
    "elif marca == 'Cola y Pola':\n",
    "    print('compro',marca)\n",
    "else:\n",
    "    print('No compro nada')"
   ]
  },
  {
   "cell_type": "code",
   "execution_count": 20,
   "metadata": {},
   "outputs": [
    {
     "name": "stdout",
     "output_type": "stream",
     "text": [
      "TRM del dia = 3500\n",
      "TRM del dia =3500\n"
     ]
    }
   ],
   "source": [
    "trm = 3500\n",
    "print('TRM del dia =',trm)\n",
    "print('TRM del dia ='+ str(trm)) #conversion a String"
   ]
  },
  {
   "cell_type": "code",
   "execution_count": 26,
   "metadata": {},
   "outputs": [
    {
     "name": "stdout",
     "output_type": "stream",
     "text": [
      "aguila\n",
      "AGUILA\n",
      "compro Aguila\n"
     ]
    }
   ],
   "source": [
    "marca = 'Aguila'\n",
    "print(marca.lower())#Minusculas\n",
    "print(marca.upper())#Mayusculas\n",
    "if marca.lower() == 'budweiser':\n",
    "    print('compro',marca) # forma recomnedada\n",
    "    #print('compro'+ marca)\n",
    "elif marca.lower() == 'aguila':\n",
    "    print('compro',marca)\n",
    "elif marca.lower() == 'poker':\n",
    "    print('compro',marca)\n",
    "elif marca.lower() == 'Cola y Pola':\n",
    "    print('compro',marca)\n",
    "else:\n",
    "    print('No compro nada')"
   ]
  },
  {
   "cell_type": "code",
   "execution_count": 27,
   "metadata": {},
   "outputs": [
    {
     "name": "stdout",
     "output_type": "stream",
     "text": [
      "Ingrese la marca : poker\n",
      "poker\n",
      "POKER\n",
      "compro poker\n"
     ]
    }
   ],
   "source": [
    "marca = input(\"Ingrese la marca : \")\n",
    "\n",
    "print(marca.lower())\n",
    "print(marca.upper())\n",
    "\n",
    "if marca.lower() == 'budweiser':\n",
    "    print('compro',marca) # forma recomnedada\n",
    "    #print('compro'+ marca)\n",
    "elif marca.lower() == 'aguila':\n",
    "    print('compro',marca)\n",
    "elif marca.lower() == 'poker':\n",
    "    print('compro',marca)\n",
    "elif marca.lower() == 'Cola y Pola':\n",
    "    print('compro',marca)\n",
    "else:\n",
    "    print('No compro nada')"
   ]
  },
  {
   "cell_type": "code",
   "execution_count": 31,
   "metadata": {},
   "outputs": [],
   "source": [
    "def ejercicio2():\n",
    "    marca = input(\"Ingrese la marca : \")\n",
    "\n",
    "    print(marca.lower())\n",
    "    print(marca.upper())\n",
    "\n",
    "    if marca.lower() == 'budweiser':\n",
    "        print('compro',marca) # forma recomnedada\n",
    "    #print('compro'+ marca)\n",
    "    elif marca.lower() == 'aguila':\n",
    "            print('compro',marca)\n",
    "    elif marca.lower() == 'poker':\n",
    "            print('compro',marca)\n",
    "    elif marca.lower() == 'Cola y Pola':\n",
    "            print('compro',marca)\n",
    "    else:\n",
    "        print('No compro nada')"
   ]
  },
  {
   "cell_type": "code",
   "execution_count": 34,
   "metadata": {},
   "outputs": [
    {
     "name": "stdout",
     "output_type": "stream",
     "text": [
      "Ingrese la marca : poker\n",
      "poker\n",
      "POKER\n",
      "compro poker\n"
     ]
    }
   ],
   "source": [
    "ejercicio2()"
   ]
  },
  {
   "cell_type": "code",
   "execution_count": 3,
   "metadata": {},
   "outputs": [
    {
     "data": {
      "text/plain": [
       "str"
      ]
     },
     "execution_count": 3,
     "metadata": {},
     "output_type": "execute_result"
    }
   ],
   "source": [
    "type('trm')"
   ]
  },
  {
   "cell_type": "code",
   "execution_count": null,
   "metadata": {},
   "outputs": [],
   "source": []
  }
 ],
 "metadata": {
  "kernelspec": {
   "display_name": "Python 3",
   "language": "python",
   "name": "python3"
  },
  "language_info": {
   "codemirror_mode": {
    "name": "ipython",
    "version": 3
   },
   "file_extension": ".py",
   "mimetype": "text/x-python",
   "name": "python",
   "nbconvert_exporter": "python",
   "pygments_lexer": "ipython3",
   "version": "3.8.5"
  }
 },
 "nbformat": 4,
 "nbformat_minor": 4
}
