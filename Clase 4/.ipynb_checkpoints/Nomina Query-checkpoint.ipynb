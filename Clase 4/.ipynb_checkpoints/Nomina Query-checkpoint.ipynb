{
 "cells": [
  {
   "cell_type": "code",
   "execution_count": 1,
   "metadata": {},
   "outputs": [],
   "source": [
    "from urllib.request import  Request,urlopen\n",
    "from pyquery import PyQuery"
   ]
  },
  {
   "cell_type": "code",
   "execution_count": 20,
   "metadata": {},
   "outputs": [
    {
     "name": "stdout",
     "output_type": "stream",
     "text": [
      "908526\n"
     ]
    }
   ],
   "source": [
    "req =Request('https://www.dane.gov.co/index.php/indicadores-economicos',None,{'User-agent' : 'Mozilla/5.0 (Windows; U; Windows NT 5.1; de; rv:1.9.1.5) Gecko/20091102 Firefox/3.5.5'})\n",
    "content = urlopen(req).read()\n",
    "pq = PyQuery(content)\n",
    "salariominimo =str([i.text() for i in pq('table').eq(7)('h1').items()][0]).replace('$','').replace('.','')\n",
    "print(salariominimo)"
   ]
  },
  {
   "cell_type": "code",
   "execution_count": 24,
   "metadata": {},
   "outputs": [
    {
     "name": "stdout",
     "output_type": "stream",
     "text": [
      "908526\n",
      "$908.526\n"
     ]
    }
   ],
   "source": [
    "req = Request('https://www.dane.gov.co/index.php/indicadores-economicos',None,{'User-agent' : 'Mozilla/5.0 (Windows; U; Windows NT 5.1; de; rv:1.9.1.5) Gecko/20091102 Firefox/3.5.5'})\n",
    "content = urlopen(req).read()\n",
    "pq = PyQuery(content)\n",
    "trm = str([i.text() for i in pq('table').eq(7)('h1').items()][0]).replace('$','').replace('.','').replace(',','.')\n",
    "trm2 = str([i.text() for i in pq('table').eq(7)('h1').items()][0])\n",
    "print(trm)\n",
    "print(trm2)"
   ]
  },
  {
   "cell_type": "code",
   "execution_count": null,
   "metadata": {},
   "outputs": [],
   "source": []
  }
 ],
 "metadata": {
  "kernelspec": {
   "display_name": "Python 3",
   "language": "python",
   "name": "python3"
  },
  "language_info": {
   "codemirror_mode": {
    "name": "ipython",
    "version": 3
   },
   "file_extension": ".py",
   "mimetype": "text/x-python",
   "name": "python",
   "nbconvert_exporter": "python",
   "pygments_lexer": "ipython3",
   "version": "3.8.5"
  }
 },
 "nbformat": 4,
 "nbformat_minor": 4
}
